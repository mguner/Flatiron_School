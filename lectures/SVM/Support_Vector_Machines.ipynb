{
 "cells": [
  {
   "cell_type": "markdown",
   "metadata": {},
   "source": [
    "##  SVM (Support Vector Classifiers) for classification \n",
    "\n",
    "__objective__:\n",
    "    -  Maximal Margin Classifier\n",
    "    -  Soft Margin\n",
    "    -  The Kernel trick\n",
    "    -  Example\n",
    "  \n",
    "__Note__: This notebook is adapted from ch:9 of ISLR.   \n",
    "  \n",
    "## First a little bit prerequisite math\n",
    "\n",
    "[line equation with desmos](https://www.desmos.com/calculator/d1gvmirneg)\n",
    "\n",
    "[Plane equation with GeoGebra](https://www.geogebra.org/3d/pxwfdmdx)\n",
    "\n",
    "### Classification Algorithms\n",
    "\n",
    " - Logistic Regression\n",
    " - Knn\n",
    " - Decision Trees \n",
    " - Random Forests\n",
    "\n",
    "### Maximal Margin Classifier\n",
    "\n",
    "In classification one natural idea might be to try to find a hyperplane (line, plane, etc) that perfectly separates the classess.\n",
    "\n",
    "<img src=\"img/maximal_margin_classifier.png\" width=450, height=450> \n",
    "\n",
    "\n",
    "- Let's say we are lucky enough to find such plane then the question becomes among infinitely many planes that separates the classes which one is the 'best' choice.\n",
    "\n",
    "__Maximal Margin Classifier__ addresses this problem by choosing the plane that maximizes the margin (farthest from the training observations).\n",
    "\n",
    "<img src=\"img/support_vectors.png\" width=450, height=450> \n",
    " \n",
    "__Q__: We have a little problem though! How can we find this, in other words, what is the problem that we would like to solve?\n",
    "\n",
    "In fact, it is a very easy one:\n",
    "\n",
    "<img src=\"img/constructing_maximal_margin.png\" width=450, height=450> \n",
    "\n",
    "\n",
    "Before we dive into this problem, do you see why maximal margin classifier might be a problem?"
   ]
  },
  {
   "cell_type": "code",
   "execution_count": 1,
   "metadata": {},
   "outputs": [],
   "source": [
    "#%load -r 1 supplement.py"
   ]
  },
  {
   "cell_type": "markdown",
   "metadata": {},
   "source": [
    "## Solution: Support Vector Classifier (soft margin classifier)\n",
    "\n",
    "\n",
    ">  In fact, even if a separating hyper-plane does exist, then there are instances in which a classifier based on a separating hyperplane might not be desirable. A classifier based on a separating hyperplane will necessarily perfectly classify all of the training observations; this can lead to sensitivity to individual observations.\n",
    "\n",
    "We will sacrifice the perfect separation for the sake of \n",
    "\n",
    " - Robustness\n",
    " - Better test performance\n",
    "\n",
    "__Q:__ How are we going to write this problem mathematically?\n",
    "<img src=\"img/slack_variables.png\" width=450, height=450> \n",
    "\n",
    "- $\\epsilon_{i}$ are called slack variables\n",
    "\n",
    "Note that once this problem is solved than we will make predictions by the sign of: \n",
    "\n",
    "$$ f(x^{\\ast}) = \\beta_{0} + \\beta_{1}x^{\\ast}_{1} + \\cdots + \\beta_{p}x^{\\ast}_{p}$$\n",
    "\n",
    "__Q__: Let's investigate the role of $\\epsilon_{i}$:\n",
    "\n",
    "- What happens if $\\epsilon_{i} = 0$?\n",
    "\n",
    "- What if $0<\\epsilon_{i} < 1$?\n",
    "\n",
    "- $\\epsilon_{i} >1$\n",
    "\n",
    "\n",
    "__Q__: How about the role of C?\n",
    "\n",
    "- if C = 0 then what are the possible values for $\\epsilon_{i}$?\n",
    "\n",
    "- How many misclassification would be allowed if C > 0  and $\\epsilon_{i} >1$?\n",
    "\n",
    "\n",
    "__Note__: C is a hyper-parameter of the model so the best value of it determined by cross-validation. \n",
    "\n",
    "<img src=\"img/effect_of_C.png\" width=450, height=450> \n",
    "\n",
    "\n",
    "__Q:__ Support Vector Classifiers a lot better than maximal margin classifiers but still not enough for most of the applications. Can you see why?"
   ]
  },
  {
   "cell_type": "code",
   "execution_count": 2,
   "metadata": {},
   "outputs": [],
   "source": [
    "# %load -r 2 supplement.py"
   ]
  },
  {
   "cell_type": "markdown",
   "metadata": {},
   "source": [
    "## Implementation & Comparison"
   ]
  },
  {
   "cell_type": "code",
   "execution_count": 3,
   "metadata": {},
   "outputs": [],
   "source": [
    "import pandas as pd\n",
    "import numpy as np\n",
    "import matplotlib.pyplot as plt  \n",
    "%matplotlib inline\n",
    "from sklearn.model_selection import train_test_split  "
   ]
  },
  {
   "cell_type": "markdown",
   "metadata": {},
   "source": [
    "Download data from [this site](http://archive.ics.uci.edu/ml/datasets/banknote+authentication)"
   ]
  },
  {
   "cell_type": "code",
   "execution_count": 4,
   "metadata": {},
   "outputs": [
    {
     "data": {
      "text/html": [
       "<div>\n",
       "<style scoped>\n",
       "    .dataframe tbody tr th:only-of-type {\n",
       "        vertical-align: middle;\n",
       "    }\n",
       "\n",
       "    .dataframe tbody tr th {\n",
       "        vertical-align: top;\n",
       "    }\n",
       "\n",
       "    .dataframe thead th {\n",
       "        text-align: right;\n",
       "    }\n",
       "</style>\n",
       "<table border=\"1\" class=\"dataframe\">\n",
       "  <thead>\n",
       "    <tr style=\"text-align: right;\">\n",
       "      <th></th>\n",
       "      <th>0</th>\n",
       "      <th>1</th>\n",
       "      <th>2</th>\n",
       "      <th>3</th>\n",
       "      <th>4</th>\n",
       "    </tr>\n",
       "  </thead>\n",
       "  <tbody>\n",
       "    <tr>\n",
       "      <th>0</th>\n",
       "      <td>3.62160</td>\n",
       "      <td>8.6661</td>\n",
       "      <td>-2.8073</td>\n",
       "      <td>-0.44699</td>\n",
       "      <td>0</td>\n",
       "    </tr>\n",
       "    <tr>\n",
       "      <th>1</th>\n",
       "      <td>4.54590</td>\n",
       "      <td>8.1674</td>\n",
       "      <td>-2.4586</td>\n",
       "      <td>-1.46210</td>\n",
       "      <td>0</td>\n",
       "    </tr>\n",
       "    <tr>\n",
       "      <th>2</th>\n",
       "      <td>3.86600</td>\n",
       "      <td>-2.6383</td>\n",
       "      <td>1.9242</td>\n",
       "      <td>0.10645</td>\n",
       "      <td>0</td>\n",
       "    </tr>\n",
       "    <tr>\n",
       "      <th>3</th>\n",
       "      <td>3.45660</td>\n",
       "      <td>9.5228</td>\n",
       "      <td>-4.0112</td>\n",
       "      <td>-3.59440</td>\n",
       "      <td>0</td>\n",
       "    </tr>\n",
       "    <tr>\n",
       "      <th>4</th>\n",
       "      <td>0.32924</td>\n",
       "      <td>-4.4552</td>\n",
       "      <td>4.5718</td>\n",
       "      <td>-0.98880</td>\n",
       "      <td>0</td>\n",
       "    </tr>\n",
       "  </tbody>\n",
       "</table>\n",
       "</div>"
      ],
      "text/plain": [
       "         0       1       2        3  4\n",
       "0  3.62160  8.6661 -2.8073 -0.44699  0\n",
       "1  4.54590  8.1674 -2.4586 -1.46210  0\n",
       "2  3.86600 -2.6383  1.9242  0.10645  0\n",
       "3  3.45660  9.5228 -4.0112 -3.59440  0\n",
       "4  0.32924 -4.4552  4.5718 -0.98880  0"
      ]
     },
     "execution_count": 4,
     "metadata": {},
     "output_type": "execute_result"
    }
   ],
   "source": [
    "bankdata = pd.read_csv('data/data_banknote_authentication.txt', header=None)\n",
    "bankdata.head()"
   ]
  },
  {
   "cell_type": "code",
   "execution_count": 5,
   "metadata": {},
   "outputs": [
    {
     "data": {
      "text/html": [
       "<div>\n",
       "<style scoped>\n",
       "    .dataframe tbody tr th:only-of-type {\n",
       "        vertical-align: middle;\n",
       "    }\n",
       "\n",
       "    .dataframe tbody tr th {\n",
       "        vertical-align: top;\n",
       "    }\n",
       "\n",
       "    .dataframe thead th {\n",
       "        text-align: right;\n",
       "    }\n",
       "</style>\n",
       "<table border=\"1\" class=\"dataframe\">\n",
       "  <thead>\n",
       "    <tr style=\"text-align: right;\">\n",
       "      <th></th>\n",
       "      <th>Variance</th>\n",
       "      <th>Skewness</th>\n",
       "      <th>Curtosis</th>\n",
       "      <th>Entropy</th>\n",
       "      <th>Class</th>\n",
       "    </tr>\n",
       "  </thead>\n",
       "  <tbody>\n",
       "    <tr>\n",
       "      <th>0</th>\n",
       "      <td>3.62160</td>\n",
       "      <td>8.6661</td>\n",
       "      <td>-2.8073</td>\n",
       "      <td>-0.44699</td>\n",
       "      <td>0</td>\n",
       "    </tr>\n",
       "    <tr>\n",
       "      <th>1</th>\n",
       "      <td>4.54590</td>\n",
       "      <td>8.1674</td>\n",
       "      <td>-2.4586</td>\n",
       "      <td>-1.46210</td>\n",
       "      <td>0</td>\n",
       "    </tr>\n",
       "    <tr>\n",
       "      <th>2</th>\n",
       "      <td>3.86600</td>\n",
       "      <td>-2.6383</td>\n",
       "      <td>1.9242</td>\n",
       "      <td>0.10645</td>\n",
       "      <td>0</td>\n",
       "    </tr>\n",
       "    <tr>\n",
       "      <th>3</th>\n",
       "      <td>3.45660</td>\n",
       "      <td>9.5228</td>\n",
       "      <td>-4.0112</td>\n",
       "      <td>-3.59440</td>\n",
       "      <td>0</td>\n",
       "    </tr>\n",
       "    <tr>\n",
       "      <th>4</th>\n",
       "      <td>0.32924</td>\n",
       "      <td>-4.4552</td>\n",
       "      <td>4.5718</td>\n",
       "      <td>-0.98880</td>\n",
       "      <td>0</td>\n",
       "    </tr>\n",
       "  </tbody>\n",
       "</table>\n",
       "</div>"
      ],
      "text/plain": [
       "   Variance  Skewness  Curtosis  Entropy  Class\n",
       "0   3.62160    8.6661   -2.8073 -0.44699      0\n",
       "1   4.54590    8.1674   -2.4586 -1.46210      0\n",
       "2   3.86600   -2.6383    1.9242  0.10645      0\n",
       "3   3.45660    9.5228   -4.0112 -3.59440      0\n",
       "4   0.32924   -4.4552    4.5718 -0.98880      0"
      ]
     },
     "execution_count": 5,
     "metadata": {},
     "output_type": "execute_result"
    }
   ],
   "source": [
    "# our data doesn't have header, so we will manually add that on \n",
    "headers = [\"Variance\", \"Skewness\", \"Curtosis\", \"Entropy\", \"Class\"]\n",
    "bankdata.columns = headers\n",
    "\n",
    "bankdata.head()"
   ]
  },
  {
   "cell_type": "code",
   "execution_count": 6,
   "metadata": {},
   "outputs": [
    {
     "name": "stdout",
     "output_type": "stream",
     "text": [
      "<class 'pandas.core.frame.DataFrame'>\n",
      "RangeIndex: 1372 entries, 0 to 1371\n",
      "Data columns (total 5 columns):\n",
      "Variance    1372 non-null float64\n",
      "Skewness    1372 non-null float64\n",
      "Curtosis    1372 non-null float64\n",
      "Entropy     1372 non-null float64\n",
      "Class       1372 non-null int64\n",
      "dtypes: float64(4), int64(1)\n",
      "memory usage: 53.7 KB\n"
     ]
    }
   ],
   "source": [
    "bankdata.info()"
   ]
  },
  {
   "cell_type": "code",
   "execution_count": 7,
   "metadata": {},
   "outputs": [],
   "source": [
    "X = bankdata.drop('Class', axis=1)  \n",
    "y = bankdata['Class'] \n",
    "X_train, X_test, y_train, y_test = train_test_split(X, y, test_size=0.20, random_state = 1029) "
   ]
  },
  {
   "cell_type": "code",
   "execution_count": 8,
   "metadata": {},
   "outputs": [],
   "source": [
    "from sklearn.model_selection import cross_validate"
   ]
  },
  {
   "cell_type": "code",
   "execution_count": 9,
   "metadata": {},
   "outputs": [
    {
     "data": {
      "text/plain": [
       "(array([0, 1]), array([608, 489]))"
      ]
     },
     "execution_count": 9,
     "metadata": {},
     "output_type": "execute_result"
    }
   ],
   "source": [
    "np.unique(y_train, return_counts= True)"
   ]
  },
  {
   "cell_type": "code",
   "execution_count": 10,
   "metadata": {},
   "outputs": [],
   "source": [
    "# for more on possible values of scoring parameter\n",
    "# https://scikit-learn.org/stable/modules/model_evaluation.html#scoring-parameter\n",
    "from sklearn.svm import SVC  \n",
    "svclassifier = SVC(kernel='linear')  \n",
    "cv = cross_validate(svclassifier, \n",
    "                    X_train,\n",
    "                    y_train,\n",
    "                    cv =5,\n",
    "                    scoring= 'recall', \n",
    "                    return_estimator= True,\n",
    "                    return_train_score= True, \n",
    "                    n_jobs= -1)"
   ]
  },
  {
   "cell_type": "code",
   "execution_count": 11,
   "metadata": {},
   "outputs": [
    {
     "name": "stdout",
     "output_type": "stream",
     "text": [
      "[0.98979592 1.         0.96938776 1.         1.        ]\n"
     ]
    }
   ],
   "source": [
    "print(cv['test_score'])\n",
    "estimator = cv['estimator'][1]\n",
    "\n",
    "y_pred = estimator.predict(X_train)\n"
   ]
  },
  {
   "cell_type": "code",
   "execution_count": 12,
   "metadata": {},
   "outputs": [
    {
     "name": "stdout",
     "output_type": "stream",
     "text": [
      "              precision    recall  f1-score   support\n",
      "\n",
      "           0       0.99      0.99      0.99       608\n",
      "           1       0.99      0.99      0.99       489\n",
      "\n",
      "    accuracy                           0.99      1097\n",
      "   macro avg       0.99      0.99      0.99      1097\n",
      "weighted avg       0.99      0.99      0.99      1097\n",
      "\n",
      "The accuracy score is 0.99179580674567\n"
     ]
    },
    {
     "data": {
      "text/html": [
       "<div>\n",
       "<style scoped>\n",
       "    .dataframe tbody tr th:only-of-type {\n",
       "        vertical-align: middle;\n",
       "    }\n",
       "\n",
       "    .dataframe tbody tr th {\n",
       "        vertical-align: top;\n",
       "    }\n",
       "\n",
       "    .dataframe thead th {\n",
       "        text-align: right;\n",
       "    }\n",
       "</style>\n",
       "<table border=\"1\" class=\"dataframe\">\n",
       "  <thead>\n",
       "    <tr style=\"text-align: right;\">\n",
       "      <th></th>\n",
       "      <th>predicted 0</th>\n",
       "      <th>predicted 1</th>\n",
       "    </tr>\n",
       "  </thead>\n",
       "  <tbody>\n",
       "    <tr>\n",
       "      <th>actual 0</th>\n",
       "      <td>603</td>\n",
       "      <td>5</td>\n",
       "    </tr>\n",
       "    <tr>\n",
       "      <th>actual 1</th>\n",
       "      <td>4</td>\n",
       "      <td>485</td>\n",
       "    </tr>\n",
       "  </tbody>\n",
       "</table>\n",
       "</div>"
      ],
      "text/plain": [
       "          predicted 0  predicted 1\n",
       "actual 0          603            5\n",
       "actual 1            4          485"
      ]
     },
     "execution_count": 12,
     "metadata": {},
     "output_type": "execute_result"
    }
   ],
   "source": [
    "from sklearn.metrics import classification_report, confusion_matrix , accuracy_score\n",
    "print(classification_report(y_train, y_pred)) \n",
    "print(f\"The accuracy score is {accuracy_score(y_train, y_pred)}\")\n",
    "\n",
    "\n",
    "conf_matrix = pd.DataFrame(confusion_matrix(y_train, y_pred),\n",
    "                           index = ['actual 0', 'actual 1'], \n",
    "                           columns = ['predicted 0', 'predicted 1'])\n",
    "conf_matrix\n",
    "\n",
    "\n",
    "## https://scikit-learn.org/stable/modules/model_evaluation.html#confusion-matrix"
   ]
  },
  {
   "cell_type": "code",
   "execution_count": 13,
   "metadata": {},
   "outputs": [],
   "source": [
    "## Let's check the documentation\n",
    "\n",
    "## https://scikit-learn.org/stable/modules/generated/sklearn.svm.SVC.html"
   ]
  },
  {
   "cell_type": "markdown",
   "metadata": {},
   "source": [
    "!! Wait a minute: The title of the lecture is Support vector machines but we didn't see them yet?\n",
    "\n",
    "\n",
    "### Support Vector Machines\n",
    "\n",
    "- Very basic idea: Transform the inputs into another space!!\n",
    "\n",
    " - Add higher orders (More Features)\n",
    " - Find smart transformations"
   ]
  },
  {
   "cell_type": "markdown",
   "metadata": {},
   "source": [
    "### Further Resources:\n",
    "\n",
    "[Cornell - Machine Learning](https://www.youtube.com/watch?v=FgTQG2IozlM)\n",
    "\n",
    "[Andrew Ng - SVM - RBF kernel-1](https://www.youtube.com/watch?v=mTyT-oHoivA)\n",
    "\n",
    "[Andrew Ng - SVM - Kernels and practical advices-III](https://www.youtube.com/watch?v=FCUBwP-JTsA)\n",
    "\n",
    "Also, read ch: 9.3 from ISLR. If you want more technical explanation read 12.2 and 12.3 from Elements of Statistical Learning."
   ]
  }
 ],
 "metadata": {
  "kernelspec": {
   "display_name": "Python 3",
   "language": "python",
   "name": "python3"
  },
  "language_info": {
   "codemirror_mode": {
    "name": "ipython",
    "version": 3
   },
   "file_extension": ".py",
   "mimetype": "text/x-python",
   "name": "python",
   "nbconvert_exporter": "python",
   "pygments_lexer": "ipython3",
   "version": "3.7.3"
  }
 },
 "nbformat": 4,
 "nbformat_minor": 2
}
